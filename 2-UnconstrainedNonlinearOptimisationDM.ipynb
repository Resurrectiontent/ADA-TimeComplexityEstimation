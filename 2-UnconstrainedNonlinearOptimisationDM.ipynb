{
 "cells": [
  {
   "cell_type": "markdown",
   "id": "1092f225",
   "metadata": {},
   "source": [
    "### Some imports"
   ]
  },
  {
   "cell_type": "code",
   "execution_count": 1,
   "id": "1899f241",
   "metadata": {},
   "outputs": [],
   "source": [
    "import time\n",
    "import math\n",
    "import decimal\n",
    "from pandas import DataFrame\n",
    "from decimal import Decimal as dec\n",
    "import seaborn as sns\n",
    "import numpy as np\n",
    "from numpy import random as np_rnd\n",
    "from scipy.stats.distributions import norm\n",
    "import random as rnd\n",
    "import matplotlib.pyplot as plt\n",
    "from matplotlib.pyplot import plot\n",
    "from IPython.display import Latex\n",
    "\n",
    "%matplotlib inline"
   ]
  },
  {
   "cell_type": "markdown",
   "id": "b12ba769",
   "metadata": {},
   "source": [
    "### Some constants"
   ]
  },
  {
   "cell_type": "code",
   "execution_count": 2,
   "id": "542c01c0",
   "metadata": {},
   "outputs": [],
   "source": [
    "EPSILON = .001"
   ]
  },
  {
   "cell_type": "markdown",
   "id": "d01d2f2d",
   "metadata": {},
   "source": [
    "## I. One-dimensional methods\n",
    "### Minimization functions"
   ]
  },
  {
   "cell_type": "code",
   "execution_count": 3,
   "id": "9da02bd7",
   "metadata": {},
   "outputs": [],
   "source": [
    "def exhaustive_search(function, interval):\n",
    "    \"\"\"Brute-force algorithm\"\"\"\n",
    "    calls, iterations = 0, 0\n",
    "    # not counted function call\n",
    "    # made for ease of coding\n",
    "    minimal_value = function(interval[0])\n",
    "    \n",
    "    for x in np.arange(*interval, EPSILON):\n",
    "        y = function(x)\n",
    "        calls += 1\n",
    "        \n",
    "        if y < minimal_value:\n",
    "            minimal_value = y\n",
    "            \n",
    "        iterations += 1\n",
    "    return minimal_value, calls, iterations\n",
    "\n",
    "\n",
    "def bisection(function, interval):\n",
    "    \"\"\"Dichotomy algorithm\"\"\"\n",
    "    calls, iterations = 0, 0\n",
    "    \n",
    "    a, b = interval\n",
    "    while abs(b - a) > EPSILON:\n",
    "        x = (a + b) /2\n",
    "        \n",
    "        if function(x - EPSILON) < function (x + EPSILON):\n",
    "            b = x\n",
    "        else:\n",
    "            a = x\n",
    "            \n",
    "        calls += 2\n",
    "        iterations += 1\n",
    "        \n",
    "    # not counted function call\n",
    "    # made for ease of coding\n",
    "    return function(a), calls, iterations\n",
    "\n",
    "def golden_section(function, interval):\n",
    "    \"\"\"Golden section algorihm\"\"\"\n",
    "    calls, iterations = 0, 0\n",
    "    phi = (1 + math.sqrt(5)) / 2\n",
    "    \n",
    "    a, b = interval\n",
    "    \n",
    "    c = b - (b - a) / phi\n",
    "    d = a + (b - a) / phi\n",
    "    f_c, f_d, last_shift_right = None, None, None\n",
    "    \n",
    "    while abs(b - a) > EPSILON:\n",
    "        if last_shift_right is None:\n",
    "            f_c = function(c)\n",
    "            f_d = function(d)\n",
    "            calls += 1\n",
    "        elif last_shift_right:\n",
    "            f_d = function(d)\n",
    "        else:\n",
    "            f_c = function(c)\n",
    "        calls += 1\n",
    "        \n",
    "        if f_c < f_d:\n",
    "            b = d\n",
    "            last_shift_right = False\n",
    "            f_d = f_c\n",
    "        else:\n",
    "            a = c\n",
    "            last_shift_right = True\n",
    "            f_c = f_d\n",
    "            \n",
    "        # recalculate values to minimize loss of percision\n",
    "        c = b - (b - a) / phi\n",
    "        d = a + (b - a) / phi\n",
    "            \n",
    "        iterations += 1\n",
    "    \n",
    "    # last call in return statement\n",
    "    # is not counted as another iteration\n",
    "    return function((a + b) / 2), calls + 1, iterations"
   ]
  },
  {
   "cell_type": "markdown",
   "id": "df6310f6",
   "metadata": {},
   "source": [
    "### Functions to minimize"
   ]
  },
  {
   "cell_type": "code",
   "execution_count": 4,
   "id": "49c818c3",
   "metadata": {},
   "outputs": [],
   "source": [
    "cubic_function = lambda x: x * x * x\n",
    "\n",
    "abs_function = lambda x: abs(x - 0.2)\n",
    "\n",
    "sin_function = lambda x: x * math.sin(1 / x)"
   ]
  },
  {
   "cell_type": "markdown",
   "id": "94149bd6",
   "metadata": {},
   "source": [
    "### Measurements\n",
    "Some setup rules and measurement function"
   ]
  },
  {
   "cell_type": "code",
   "execution_count": 5,
   "id": "2115ad1f",
   "metadata": {},
   "outputs": [],
   "source": [
    "columns = [\"Method\", \"minimum\", \"function calls\", \"iterations\"]\n",
    "minimizators = [exhaustive_search, bisection, golden_section]\n",
    "function_setups = {cubic_function: (0, 1), abs_function: (0, 1), sin_function: (0.01, 1)}\n",
    "\n",
    "measure_function = lambda function:\\\n",
    "    [(minimizator.__name__, *minimizator(function, function_setups[function])) for minimizator in minimizators]"
   ]
  },
  {
   "cell_type": "markdown",
   "id": "ea913416",
   "metadata": {},
   "source": [
    "Measurements\n",
    "1. Cubic function<br>\n",
    "$f(x)=x^3, x\\in[0,1]$"
   ]
  },
  {
   "cell_type": "code",
   "execution_count": 6,
   "id": "f392c605",
   "metadata": {},
   "outputs": [
    {
     "data": {
      "text/html": [
       "<div>\n",
       "<style scoped>\n",
       "    .dataframe tbody tr th:only-of-type {\n",
       "        vertical-align: middle;\n",
       "    }\n",
       "\n",
       "    .dataframe tbody tr th {\n",
       "        vertical-align: top;\n",
       "    }\n",
       "\n",
       "    .dataframe thead th {\n",
       "        text-align: right;\n",
       "    }\n",
       "</style>\n",
       "<table border=\"1\" class=\"dataframe\">\n",
       "  <thead>\n",
       "    <tr style=\"text-align: right;\">\n",
       "      <th></th>\n",
       "      <th>Method</th>\n",
       "      <th>minimum</th>\n",
       "      <th>function calls</th>\n",
       "      <th>iterations</th>\n",
       "    </tr>\n",
       "  </thead>\n",
       "  <tbody>\n",
       "    <tr>\n",
       "      <th>0</th>\n",
       "      <td>exhaustive_search</td>\n",
       "      <td>0.000000e+00</td>\n",
       "      <td>1000</td>\n",
       "      <td>1000</td>\n",
       "    </tr>\n",
       "    <tr>\n",
       "      <th>1</th>\n",
       "      <td>bisection</td>\n",
       "      <td>0.000000e+00</td>\n",
       "      <td>20</td>\n",
       "      <td>10</td>\n",
       "    </tr>\n",
       "    <tr>\n",
       "      <th>2</th>\n",
       "      <td>golden_section</td>\n",
       "      <td>4.925680e-11</td>\n",
       "      <td>17</td>\n",
       "      <td>15</td>\n",
       "    </tr>\n",
       "  </tbody>\n",
       "</table>\n",
       "</div>"
      ],
      "text/plain": [
       "              Method       minimum  function calls  iterations\n",
       "0  exhaustive_search  0.000000e+00            1000        1000\n",
       "1          bisection  0.000000e+00              20          10\n",
       "2     golden_section  4.925680e-11              17          15"
      ]
     },
     "metadata": {},
     "output_type": "display_data"
    }
   ],
   "source": [
    "cubic_function_table = DataFrame.from_records(measure_function(cubic_function))\n",
    "cubic_function_table.columns = columns\n",
    "display(cubic_function_table)"
   ]
  },
  {
   "cell_type": "markdown",
   "id": "d202b01a",
   "metadata": {},
   "source": [
    "2. Absolute value function<br>\n",
    "$f(x)=|x-0.2|, x\\in[0,1]$"
   ]
  },
  {
   "cell_type": "code",
   "execution_count": 7,
   "id": "7d2badc2",
   "metadata": {},
   "outputs": [
    {
     "data": {
      "text/html": [
       "<div>\n",
       "<style scoped>\n",
       "    .dataframe tbody tr th:only-of-type {\n",
       "        vertical-align: middle;\n",
       "    }\n",
       "\n",
       "    .dataframe tbody tr th {\n",
       "        vertical-align: top;\n",
       "    }\n",
       "\n",
       "    .dataframe thead th {\n",
       "        text-align: right;\n",
       "    }\n",
       "</style>\n",
       "<table border=\"1\" class=\"dataframe\">\n",
       "  <thead>\n",
       "    <tr style=\"text-align: right;\">\n",
       "      <th></th>\n",
       "      <th>Method</th>\n",
       "      <th>minimum</th>\n",
       "      <th>function calls</th>\n",
       "      <th>iterations</th>\n",
       "    </tr>\n",
       "  </thead>\n",
       "  <tbody>\n",
       "    <tr>\n",
       "      <th>0</th>\n",
       "      <td>exhaustive_search</td>\n",
       "      <td>0.000000</td>\n",
       "      <td>1000</td>\n",
       "      <td>1000</td>\n",
       "    </tr>\n",
       "    <tr>\n",
       "      <th>1</th>\n",
       "      <td>bisection</td>\n",
       "      <td>0.000781</td>\n",
       "      <td>20</td>\n",
       "      <td>10</td>\n",
       "    </tr>\n",
       "    <tr>\n",
       "      <th>2</th>\n",
       "      <td>golden_section</td>\n",
       "      <td>0.000073</td>\n",
       "      <td>17</td>\n",
       "      <td>15</td>\n",
       "    </tr>\n",
       "  </tbody>\n",
       "</table>\n",
       "</div>"
      ],
      "text/plain": [
       "              Method   minimum  function calls  iterations\n",
       "0  exhaustive_search  0.000000            1000        1000\n",
       "1          bisection  0.000781              20          10\n",
       "2     golden_section  0.000073              17          15"
      ]
     },
     "metadata": {},
     "output_type": "display_data"
    }
   ],
   "source": [
    "abs_function_table = DataFrame.from_records(measure_function(abs_function))\n",
    "abs_function_table.columns = columns\n",
    "display(abs_function_table)"
   ]
  },
  {
   "cell_type": "markdown",
   "id": "4f2a8f5b",
   "metadata": {},
   "source": [
    "3. Sinus funcion<br>\n",
    "$f(x)=x \\sin(\\frac{1}{x}), x\\in[0.01, 1]$"
   ]
  },
  {
   "cell_type": "code",
   "execution_count": 8,
   "id": "987f13f2",
   "metadata": {},
   "outputs": [
    {
     "data": {
      "text/html": [
       "<div>\n",
       "<style scoped>\n",
       "    .dataframe tbody tr th:only-of-type {\n",
       "        vertical-align: middle;\n",
       "    }\n",
       "\n",
       "    .dataframe tbody tr th {\n",
       "        vertical-align: top;\n",
       "    }\n",
       "\n",
       "    .dataframe thead th {\n",
       "        text-align: right;\n",
       "    }\n",
       "</style>\n",
       "<table border=\"1\" class=\"dataframe\">\n",
       "  <thead>\n",
       "    <tr style=\"text-align: right;\">\n",
       "      <th></th>\n",
       "      <th>Method</th>\n",
       "      <th>minimum</th>\n",
       "      <th>function calls</th>\n",
       "      <th>iterations</th>\n",
       "    </tr>\n",
       "  </thead>\n",
       "  <tbody>\n",
       "    <tr>\n",
       "      <th>0</th>\n",
       "      <td>exhaustive_search</td>\n",
       "      <td>-0.217225</td>\n",
       "      <td>990</td>\n",
       "      <td>990</td>\n",
       "    </tr>\n",
       "    <tr>\n",
       "      <th>1</th>\n",
       "      <td>bisection</td>\n",
       "      <td>-0.217204</td>\n",
       "      <td>20</td>\n",
       "      <td>10</td>\n",
       "    </tr>\n",
       "    <tr>\n",
       "      <th>2</th>\n",
       "      <td>golden_section</td>\n",
       "      <td>-0.217232</td>\n",
       "      <td>17</td>\n",
       "      <td>15</td>\n",
       "    </tr>\n",
       "  </tbody>\n",
       "</table>\n",
       "</div>"
      ],
      "text/plain": [
       "              Method   minimum  function calls  iterations\n",
       "0  exhaustive_search -0.217225             990         990\n",
       "1          bisection -0.217204              20          10\n",
       "2     golden_section -0.217232              17          15"
      ]
     },
     "metadata": {},
     "output_type": "display_data"
    }
   ],
   "source": [
    "sin_function_table = DataFrame.from_records(measure_function(sin_function))\n",
    "sin_function_table.columns = columns\n",
    "display(sin_function_table)"
   ]
  },
  {
   "cell_type": "markdown",
   "id": "3d1935dd",
   "metadata": {},
   "source": [
    "## II. Multidimensional methods"
   ]
  },
  {
   "cell_type": "markdown",
   "id": "a69f878c",
   "metadata": {},
   "source": [
    "### Setup"
   ]
  },
  {
   "cell_type": "code",
   "execution_count": 9,
   "id": "317ee4a9",
   "metadata": {},
   "outputs": [],
   "source": [
    "alpha, beta = rnd.uniform(0, 1), rnd.uniform(0, 1)\n",
    "\n",
    "X = [k / 100 for k in range(0, 101)]\n",
    "delta = norm(loc=0, scale=1).rvs(size=101)\n",
    "Y = [alpha * x_k + beta + delta_k for x_k, delta_k in zip(X, delta)]"
   ]
  },
  {
   "cell_type": "code",
   "execution_count": 10,
   "id": "25ed3b6b",
   "metadata": {},
   "outputs": [
    {
     "data": {
      "text/plain": [
       "<AxesSubplot:>"
      ]
     },
     "execution_count": 10,
     "metadata": {},
     "output_type": "execute_result"
    },
    {
     "data": {
      "image/png": "[encoded data removed]",
      "text/plain": [
       "<Figure size 640x480 with 1 Axes>"
      ]
     },
     "metadata": {},
     "output_type": "display_data"
    }
   ],
   "source": [
    "noise = DataFrame({\"x\":X,\"y\":Y,\"delta\":delta})\n",
    "sns.set_theme()\n",
    "plt.figure(figsize=(8, 6), dpi=80)\n",
    "sns.scatterplot(data=noise)"
   ]
  },
  {
   "cell_type": "code",
   "execution_count": 11,
   "id": "eee4bbbb",
   "metadata": {},
   "outputs": [
    {
     "data": {
      "text/plain": [
       "<AxesSubplot:xlabel='y', ylabel='Count'>"
      ]
     },
     "execution_count": 11,
     "metadata": {},
     "output_type": "execute_result"
    },
    {
     "data": {
      "image/png": "[encoded data removed]",
      "text/plain": [
       "<Figure size 432x288 with 1 Axes>"
      ]
     },
     "metadata": {},
     "output_type": "display_data"
    }
   ],
   "source": [
    "sns.histplot(data=noise, x=\"y\", kde=True)"
   ]
  },
  {
   "cell_type": "markdown",
   "id": "800037ab",
   "metadata": {},
   "source": [
    "### Approximants"
   ]
  },
  {
   "cell_type": "code",
   "execution_count": 12,
   "id": "bffa245b",
   "metadata": {},
   "outputs": [],
   "source": [
    "linear_approximant = lambda x, a, b: a * x + b\n",
    "rational_approximant = lambda x, a, b: a / (1 + b * x)"
   ]
  },
  {
   "cell_type": "markdown",
   "id": "d73ff3d5",
   "metadata": {},
   "source": [
    "### Function to minimize\n",
    "least squares method"
   ]
  },
  {
   "cell_type": "code",
   "execution_count": 13,
   "id": "0ab611c8",
   "metadata": {},
   "outputs": [],
   "source": [
    "least_squares = lambda function, a, b: \\\n",
    "    sum([math.pow(function(x_k, a, b) - y_k, 2) for x_k, y_k in zip(X, Y)])"
   ]
  },
  {
   "cell_type": "markdown",
   "id": "d9fb537a",
   "metadata": {},
   "source": [
    "### Minimization functions"
   ]
  },
  {
   "cell_type": "code",
   "execution_count": 14,
   "id": "182f2037",
   "metadata": {},
   "outputs": [],
   "source": [
    "def multidim_exhaustive_search(function, ranges):\n",
    "    calls, iterations = 0, 0\n",
    "    \n",
    "    min_value = None\n",
    "    x_m, y_m = 0, 0\n",
    "    for x in np.arange(ranges[0][0], ranges[0][1], step=EPSILON):\n",
    "        for y in np.arange(ranges[1][0], ranges[1][1], step=EPSILON):\n",
    "            value = least_squares(function, x, y)\n",
    "            calls += 1\n",
    "            \n",
    "            if min_value is None or value < min_value:\n",
    "                min_value = value\n",
    "                x_m, y_m = x, y\n",
    "            iterations += 1\n",
    "    \n",
    "    return [x_m, y_m], min_value, calls, iterations\n",
    "\n",
    "def gauss_search(function,  ranges):\n",
    "    calls, iterations = 0, 0\n",
    "    previous_result = None\n",
    "    x_iteration = True\n",
    "    other_coord = np.random.choice(np.arange(ranges[1][0], ranges[1][1], EPSILON))\n",
    "    \n",
    "    \n",
    "    while True:\n",
    "        dimension = 0 if x_iteration else 1\n",
    "        # value of function\n",
    "        current_minimum = None\n",
    "        # value of iterated coord\n",
    "        current_minima = None\n",
    "\n",
    "        for i in np.arange(ranges[dimension][0], ranges[dimension][1], step=EPSILON):\n",
    "            iterations += 1                                                                                                                                                                                                                                                                                                                                                                                                                                                                                                                                                                                                                                                                                                                                                                                                                                                                                                                                                                                                                                                                                                                                                                                                                                                                                                                                                                                                                                                                                                                                                                                                                                                                                                                                                                                                                                                                                                                                                                                                                                                                                                                                                                                                                                                                                                                                                                                                                                                                                                                                                                                                                                                                                                                                                                                                                                                                                                                                                                                                                                                                                                                                                                                                                                                                                                                                                                                                                                                                                                                                                                                                                                                                                                                                                                                                                                                                                                                                                                                                                                                                                                                                                                                                                                                                                                                                                                                                                                                                                                                                                                                                                                                                                                                                                                                                                                                                                                                                                                                                                                                                                                                                                                                                                                                                                                                                                                                                                                                                                                                                                                                                                                                                                                                                                                                                                                                                                                                                                                                                                                                                                                                                                                                                                                                                                                                                                                                                                                                                                                                                                                                                                                                                             \n",
    "            value = least_squares(function, i, other_coord) \\\n",
    "                if x_iteration \\\n",
    "                else least_squares(function, other_coord, i)\n",
    "            calls += 1\n",
    "            \n",
    "            if current_minimum is None or value < current_minimum:\n",
    "                current_minimum, current_minima = value, i\n",
    "                \n",
    "        current_result = np.array([current_minima, other_coord]) \\\n",
    "            if x_iteration \\\n",
    "            else np.array([other_coord, current_minima])\n",
    "        \n",
    "        if previous_result is not None and abs(previous_result[dimension] - current_result[dimension]) < EPSILON:\n",
    "            return current_result, current_minimum, calls, iterations\n",
    "            break\n",
    "\n",
    "        previous_result = current_result\n",
    "        other_coord = current_minima\n",
    "        x_iteration = not x_iteration\n",
    "\n",
    "    \n",
    "def nelder_mead(function, ranges):\n",
    "    f = lambda x: least_squares(function, *x)\n",
    "    \n",
    "    calls, iterations = 0, 0\n",
    "    _alpha, _beta, _gamma = 1.5, 0.75, 3\n",
    "    difference = EPSILON + 1\n",
    "    \n",
    "    # choose three points with random coordinates\n",
    "    x1, x2, x3 = [[rnds[0] * (ranges[0][1] - ranges[0][0]) + ranges[0][0], \\\n",
    "                   rnds[1] * (ranges[1][1] - ranges[1][0]) + ranges[1][0]] \\\n",
    "                  for rnds in np_rnd.ranf((3,2))]\n",
    "    \n",
    "    d1, d2, d3 = sorted([{'x': x1, 'y': f(x1)}, \\\n",
    "                         {'x': x2, 'y': f(x2)}, \\\n",
    "                         {'x': x3, 'y': f(x3)}], \\\n",
    "                        key=lambda x: x['y'])\n",
    "    calls += 3\n",
    "    x_h, x_g, x_l = np.array(d3['x']), np.array(d2['x']), np.array(d1['x'])\n",
    "    f_h, f_g, f_l = d3['y'], d2['y'], d1['y']\n",
    "    \n",
    "    def compress(xh, xc):\n",
    "        xs = _beta * xh + (1 - _beta) * xc\n",
    "        fs = f(xs)\n",
    "        return xs, fs\n",
    "    \n",
    "    while difference > EPSILON:\n",
    "        iterations += 1\n",
    "        \n",
    "        # center of mass\n",
    "        x_c = (x_g + x_l) / 2\n",
    "        # reflection of x_h\n",
    "        x_r = (1 + _alpha) * x_c - _alpha * x_h\n",
    "        f_r = f(x_r)\n",
    "        calls += 1\n",
    "\n",
    "        if f_r < f_l:\n",
    "            x_e = (1 - _gamma) * x_c + _gamma * x_r\n",
    "            f_e = f(x_e)\n",
    "            calls += 1\n",
    "\n",
    "            if f_e < f_r:\n",
    "                x_h, f_h = x_e, f_e\n",
    "            else:\n",
    "                x_h, f_h = x_r, f_r\n",
    "\n",
    "        elif f_r < f_g:\n",
    "            x_h, f_h = x_r, f_r\n",
    "\n",
    "        else:\n",
    "            if f_r < f_h:\n",
    "                # exchange values\n",
    "                x_r, x_h = x_h, x_r\n",
    "                f_r, f_h = f_h, f_r\n",
    "\n",
    "            x_s, f_s = compress(x_h, x_c)\n",
    "            calls += 1\n",
    "            if f_s < f_h:\n",
    "                x_h, f_h = x_s, f_s\n",
    "            else:\n",
    "                x_h, x_g = [x_l + (x - x_l) / 2 for x in [x_h, x_g]]\n",
    "\n",
    "        [x_l, f_l], [x_g, f_g], [x_h, f_h]  = \\\n",
    "            sorted([[x_h, f_h], [x_g, f_g], [x_l, f_l]], key=lambda x: x[1])\n",
    "        \n",
    "        difference = max(np.std([x_l, x_g, x_h], axis=0))\n",
    "    \n",
    "    return x_l, f_l, calls, iterations\n"
   ]
  },
  {
   "cell_type": "markdown",
   "id": "2737b74e",
   "metadata": {},
   "source": [
    "### Help function\n",
    "for displaying measurement results"
   ]
  },
  {
   "cell_type": "code",
   "execution_count": 36,
   "id": "cfdfd252",
   "metadata": {},
   "outputs": [],
   "source": [
    "def visualize_measurements(func, exh_res, gauss_res, nelder_res, lg_loc='upper right'):\n",
    "    fig, ax = plt.subplots()\n",
    "    plt.figure(figsize=(8,6))\n",
    "    applied_approximant = lambda x, y: least_squares(func, x, y)\n",
    "    \n",
    "    results = DataFrame.from_records([exh_res,gauss_res,nelder_res], columns=[\"x\", \"result\", \"calls\", \"iterations\"])\n",
    "\n",
    "    x_range = [min(results[\"x\"], key=lambda i: i[0])[0], max(results[\"x\"], key=lambda i: i[0])[0]]\n",
    "    y_range = [min(results[\"x\"], key=lambda i: i[1])[1], max(results[\"x\"], key=lambda i: i[1])[1]]\n",
    "\n",
    "    # extend ranges\n",
    "    x_range_third = (x_range[1] - x_range[0]) / 3\n",
    "    x_grid = np.linspace(x_range[0] - x_range_third, x_range[1] + x_range_third, 100)\n",
    "\n",
    "    y_range_third = (y_range[1] - y_range[0]) / 3\n",
    "    y_grid = np.linspace(y_range[0] - y_range_third, y_range[1] + y_range_third, 100)\n",
    "    value_grid = [[applied_approximant(x, y) for y in y_grid] for x in x_grid]\n",
    "\n",
    "    chart = ax.contourf(x_grid, y_grid, value_grid, cmap=\"YlGnBu\", levels=10)\n",
    "\n",
    "    labels = ['approximant', '(r)-exhausive search','(g)-gauss search','(b)-nelder mead']\n",
    "    for i in range(len(labels)):\n",
    "        chart.collections[i].set_label(labels[i])\n",
    "\n",
    "    ax.legend(loc=lg_loc)\n",
    "    ax.plot(exh_res[0][0], exh_res[0][1], 'ro')\n",
    "    ax.plot(gauss_res[0][0], gauss_res[0][1], 'go')\n",
    "    ax.plot(nelder_res[0][0], nelder_res[0][1], 'bo')\n",
    "    \n",
    "def visualize_resulting_lines(func, exh_res, gauss_res, nelder_res):\n",
    "    x = np.linspace(-10, 10, 100)\n",
    "    y_exh = [func(x_i, exh_res[0][0], exh_res[0][1]) for x_i in x]\n",
    "    y_gauss = [func(x_i, gauss_res[0][0], gauss_res[0][1]) for x_i in x]\n",
    "    y_nelder = [func(x_i, nelder_res[0][0], nelder_res[0][1]) for x_i in x]\n",
    "    \n",
    "    plot(x, y_exh, 'r.-', label=\"Exhaustive\")\n",
    "    plot(x, y_gauss, 'g-', label=\"Gauss\")\n",
    "    plot(x, y_nelder, 'b--', label=\"Nelder-Mead\")\n",
    "    plot(np.linspace(-10, 10, 101), Y, 'yo', label='Data')\n",
    "    plt.legend()"
   ]
  },
  {
   "cell_type": "markdown",
   "id": "aeb3a241",
   "metadata": {},
   "source": [
    "### Setup"
   ]
  },
  {
   "cell_type": "code",
   "execution_count": 16,
   "id": "27b46f2d",
   "metadata": {},
   "outputs": [],
   "source": [
    "ranges = [[0,1],[0,1]]\n",
    "ranges_rat = [[0,1],[-0.9999,0]]"
   ]
  },
  {
   "cell_type": "markdown",
   "id": "0518b761",
   "metadata": {},
   "source": [
    "### Measurements\n",
    "1. linear approximant"
   ]
  },
  {
   "cell_type": "code",
   "execution_count": 17,
   "id": "563511fb",
   "metadata": {},
   "outputs": [],
   "source": [
    "exh = multidim_exhaustive_search(linear_approximant, ranges)\n",
    "gauss = gauss_search(linear_approximant, ranges)\n",
    "nelder = nelder_mead(linear_approximant, ranges)"
   ]
  },
  {
   "cell_type": "code",
   "execution_count": 18,
   "id": "b72571c5",
   "metadata": {},
   "outputs": [
    {
     "data": {
      "text/html": [
       "<div>\n",
       "<style scoped>\n",
       "    .dataframe tbody tr th:only-of-type {\n",
       "        vertical-align: middle;\n",
       "    }\n",
       "\n",
       "    .dataframe tbody tr th {\n",
       "        vertical-align: top;\n",
       "    }\n",
       "\n",
       "    .dataframe thead th {\n",
       "        text-align: right;\n",
       "    }\n",
       "</style>\n",
       "<table border=\"1\" class=\"dataframe\">\n",
       "  <thead>\n",
       "    <tr style=\"text-align: right;\">\n",
       "      <th></th>\n",
       "      <th>method</th>\n",
       "      <th>result</th>\n",
       "      <th>calls</th>\n",
       "      <th>iterations</th>\n",
       "    </tr>\n",
       "  </thead>\n",
       "  <tbody>\n",
       "    <tr>\n",
       "      <th>0</th>\n",
       "      <td>Exhaustive</td>\n",
       "      <td>106.519658</td>\n",
       "      <td>1000000</td>\n",
       "      <td>1000000</td>\n",
       "    </tr>\n",
       "    <tr>\n",
       "      <th>1</th>\n",
       "      <td>Gauss</td>\n",
       "      <td>106.519696</td>\n",
       "      <td>30000</td>\n",
       "      <td>30000</td>\n",
       "    </tr>\n",
       "    <tr>\n",
       "      <th>2</th>\n",
       "      <td>Nelder-Mead</td>\n",
       "      <td>106.519708</td>\n",
       "      <td>101</td>\n",
       "      <td>51</td>\n",
       "    </tr>\n",
       "  </tbody>\n",
       "</table>\n",
       "</div>"
      ],
      "text/plain": [
       "        method      result    calls  iterations\n",
       "0   Exhaustive  106.519658  1000000     1000000\n",
       "1        Gauss  106.519696    30000       30000\n",
       "2  Nelder-Mead  106.519708      101          51"
      ]
     },
     "metadata": {},
     "output_type": "display_data"
    }
   ],
   "source": [
    "linear_results = DataFrame.from_records([\\\n",
    "                                         [\"Exhaustive\", *exh[1:]],\\\n",
    "                                         [\"Gauss\", *gauss[1:]],\\\n",
    "                                         [\"Nelder-Mead\", *nelder[1:]]], \\\n",
    "                                        columns=[\"method\",\"result\", \"calls\", \"iterations\"])\n",
    "display(linear_results)"
   ]
  },
  {
   "cell_type": "markdown",
   "id": "70be487e",
   "metadata": {},
   "source": [
    "As shown on the table, results differ letter then $\\epsilon=0.001$\n",
    "<br><br>\n",
    "Areas with letter values are colored in lighter colors on the chart below"
   ]
  },
  {
   "cell_type": "code",
   "execution_count": 19,
   "id": "e295da6b",
   "metadata": {},
   "outputs": [
    {
     "data": {
      "image/png": "[encoded data removed]",
      "text/plain": [
       "<Figure size 432x288 with 1 Axes>"
      ]
     },
     "metadata": {},
     "output_type": "display_data"
    },
    {
     "data": {
      "text/plain": [
       "<Figure size 576x432 with 0 Axes>"
      ]
     },
     "metadata": {},
     "output_type": "display_data"
    }
   ],
   "source": [
    "visualize_measurements(linear_approximant, exh, gauss, nelder)"
   ]
  },
  {
   "cell_type": "code",
   "execution_count": 37,
   "id": "c4d4aa2a",
   "metadata": {},
   "outputs": [
    {
     "data": {
      "image/png": "[encoded data removed]",
      "text/plain": [
       "<Figure size 432x288 with 1 Axes>"
      ]
     },
     "metadata": {},
     "output_type": "display_data"
    }
   ],
   "source": [
    "visualize_resulting_lines(linear_approximant, exh, gauss, nelder)"
   ]
  },
  {
   "cell_type": "markdown",
   "id": "9dd02b44",
   "metadata": {},
   "source": [
    "2. rational approximant"
   ]
  },
  {
   "cell_type": "code",
   "execution_count": 38,
   "id": "9ca82383",
   "metadata": {},
   "outputs": [],
   "source": [
    "exh_rat = multidim_exhaustive_search(rational_approximant, ranges_rat)\n",
    "gauss_rat = gauss_search(rational_approximant, ranges_rat)\n",
    "nelder_rat = nelder_mead(rational_approximant, ranges_rat)"
   ]
  },
  {
   "cell_type": "code",
   "execution_count": 39,
   "id": "74f43b58",
   "metadata": {},
   "outputs": [
    {
     "data": {
      "text/html": [
       "<div>\n",
       "<style scoped>\n",
       "    .dataframe tbody tr th:only-of-type {\n",
       "        vertical-align: middle;\n",
       "    }\n",
       "\n",
       "    .dataframe tbody tr th {\n",
       "        vertical-align: top;\n",
       "    }\n",
       "\n",
       "    .dataframe thead th {\n",
       "        text-align: right;\n",
       "    }\n",
       "</style>\n",
       "<table border=\"1\" class=\"dataframe\">\n",
       "  <thead>\n",
       "    <tr style=\"text-align: right;\">\n",
       "      <th></th>\n",
       "      <th>method</th>\n",
       "      <th>result</th>\n",
       "      <th>calls</th>\n",
       "      <th>iterations</th>\n",
       "    </tr>\n",
       "  </thead>\n",
       "  <tbody>\n",
       "    <tr>\n",
       "      <th>0</th>\n",
       "      <td>Exhaustive</td>\n",
       "      <td>107.331387</td>\n",
       "      <td>1000000</td>\n",
       "      <td>1000000</td>\n",
       "    </tr>\n",
       "    <tr>\n",
       "      <th>1</th>\n",
       "      <td>Gauss</td>\n",
       "      <td>107.331469</td>\n",
       "      <td>25000</td>\n",
       "      <td>25000</td>\n",
       "    </tr>\n",
       "    <tr>\n",
       "      <th>2</th>\n",
       "      <td>Nelder-Mead</td>\n",
       "      <td>107.331452</td>\n",
       "      <td>103</td>\n",
       "      <td>52</td>\n",
       "    </tr>\n",
       "  </tbody>\n",
       "</table>\n",
       "</div>"
      ],
      "text/plain": [
       "        method      result    calls  iterations\n",
       "0   Exhaustive  107.331387  1000000     1000000\n",
       "1        Gauss  107.331469    25000       25000\n",
       "2  Nelder-Mead  107.331452      103          52"
      ]
     },
     "metadata": {},
     "output_type": "display_data"
    }
   ],
   "source": [
    "rat_results = DataFrame.from_records([\\\n",
    "                                         [\"Exhaustive\", *exh_rat[1:]],\\\n",
    "                                         [\"Gauss\", *gauss_rat[1:]],\\\n",
    "                                         [\"Nelder-Mead\", *nelder_rat[1:]]], \\\n",
    "                                        columns=[\"method\",\"result\", \"calls\", \"iterations\"])\n",
    "display(rat_results)"
   ]
  },
  {
   "cell_type": "code",
   "execution_count": 40,
   "id": "28934149",
   "metadata": {},
   "outputs": [
    {
     "data": {
      "image/png": "[encoded data removed]",
      "text/plain": [
       "<Figure size 432x288 with 1 Axes>"
      ]
     },
     "metadata": {},
     "output_type": "display_data"
    },
    {
     "data": {
      "text/plain": [
       "<Figure size 576x432 with 0 Axes>"
      ]
     },
     "metadata": {},
     "output_type": "display_data"
    }
   ],
   "source": [
    "visualize_measurements(rational_approximant, exh_rat, gauss_rat, nelder_rat, lg_loc='upper left')"
   ]
  },
  {
   "cell_type": "code",
   "execution_count": 41,
   "id": "579a808f",
   "metadata": {},
   "outputs": [
    {
     "data": {
      "image/png": "[encoded data removed]",
      "text/plain": [
       "<Figure size 432x288 with 1 Axes>"
      ]
     },
     "metadata": {},
     "output_type": "display_data"
    }
   ],
   "source": [
    "visualize_resulting_lines(rational_approximant, exh_rat, gauss_rat, nelder_rat)"
   ]
  },
  {
   "cell_type": "code",
   "execution_count": 63,
   "id": "ba799f75",
   "metadata": {},
   "outputs": [
    {
     "data": {
      "text/plain": [
       "[0, 2, 3]"
      ]
     },
     "execution_count": 63,
     "metadata": {},
     "output_type": "execute_result"
    }
   ],
   "source": [
    "a = [1,2,3]\n",
    "b = [0, *a[1:]]\n",
    "b"
   ]
  },
  {
   "cell_type": "code",
   "execution_count": null,
   "id": "0c76f3de",
   "metadata": {},
   "outputs": [],
   "source": []
  }
 ],
 "metadata": {
  "kernelspec": {
   "display_name": "Python 3 (ipykernel)",
   "language": "python",
   "name": "python3"
  },
  "language_info": {
   "codemirror_mode": {
    "name": "ipython",
    "version": 3
   },
   "file_extension": ".py",
   "mimetype": "text/x-python",
   "name": "python",
   "nbconvert_exporter": "python",
   "pygments_lexer": "ipython3",
   "version": "3.8.12"
  }
 },
 "nbformat": 4,
 "nbformat_minor": 5
}

{
 "cells": [
  {
   "cell_type": "markdown",
   "id": "77ee01aa",
   "metadata": {},
   "source": [
    "### Some imports"
   ]
  },
  {
   "cell_type": "code",
   "execution_count": 1,
   "id": "d3125dd9",
   "metadata": {},
   "outputs": [],
   "source": [
    "import time\n",
    "import math\n",
    "import decimal\n",
    "from pandas import DataFrame\n",
    "from decimal import Decimal as dec\n",
    "import seaborn as sns\n",
    "import numpy as np\n",
    "from numpy import random as np_rnd\n",
    "from scipy.stats.distributions import norm\n",
    "import random as rnd\n",
    "import matplotlib.pyplot as plt\n",
    "from matplotlib.pyplot import plot\n",
    "from IPython.display import Latex\n",
    "\n",
    "%matplotlib inline"
   ]
  },
  {
   "cell_type": "markdown",
   "id": "9d8295f7",
   "metadata": {},
   "source": [
    "### Some constants"
   ]
  },
  {
   "cell_type": "code",
   "execution_count": 2,
   "id": "dda5ee5d",
   "metadata": {},
   "outputs": [],
   "source": [
    "EPSILON = .001"
   ]
  },
  {
   "cell_type": "markdown",
   "id": "2eb780a6",
   "metadata": {},
   "source": [
    "## I. One-dimensional methods\n",
    "### Minimization functions"
   ]
  },
  {
   "cell_type": "code",
   "execution_count": 3,
   "id": "e444f706",
   "metadata": {},
   "outputs": [],
   "source": [
    "def exhaustive_search(function, interval):\n",
    "    \"\"\"Brute-force algorithm\"\"\"\n",
    "    calls, iterations = 0, 0\n",
    "    # not counted function call\n",
    "    # made for ease of coding\n",
    "    minimal_value = function(interval[0])\n",
    "    \n",
    "    for x in np.arange(*interval, EPSILON):\n",
    "        y = function(x)\n",
    "        calls += 1\n",
    "        \n",
    "        if y < minimal_value:\n",
    "            minimal_value = y\n",
    "            \n",
    "        iterations += 1\n",
    "    return minimal_value, calls, iterations\n",
    "\n",
    "\n",
    "def bisection(function, interval):\n",
    "    \"\"\"Dichotomy algorithm\"\"\"\n",
    "    calls, iterations = 0, 0\n",
    "    \n",
    "    a, b = interval\n",
    "    while abs(b - a) > EPSILON:\n",
    "        x = (a + b) /2\n",
    "        \n",
    "        if function(x - EPSILON) < function (x + EPSILON):\n",
    "            b = x\n",
    "        else:\n",
    "            a = x\n",
    "            \n",
    "        calls += 2\n",
    "        iterations += 1\n",
    "        \n",
    "    # not counted function call\n",
    "    # made for ease of coding\n",
    "    return function(a), calls, iterations\n",
    "\n",
    "def golden_section(function, interval):\n",
    "    \"\"\"Golden section algorihm\"\"\"\n",
    "    calls, iterations = 0, 0\n",
    "    phi = (1 + math.sqrt(5)) / 2\n",
    "    \n",
    "    a, b = interval\n",
    "    \n",
    "    c = b - (b - a) / phi\n",
    "    d = a + (b - a) / phi\n",
    "    f_c, f_d, last_shift_right = None, None, None\n",
    "    \n",
    "    while abs(b - a) > EPSILON:\n",
    "        if last_shift_right is None:\n",
    "            f_c = function(c)\n",
    "            f_d = function(d)\n",
    "            calls += 1\n",
    "        elif last_shift_right:\n",
    "            f_d = function(d)\n",
    "        else:\n",
    "            f_c = function(c)\n",
    "        calls += 1\n",
    "        \n",
    "        if f_c < f_d:\n",
    "            b = d\n",
    "            last_shift_right = False\n",
    "            f_d = f_c\n",
    "        else:\n",
    "            a = c\n",
    "            last_shift_right = True\n",
    "            f_c = f_d\n",
    "            \n",
    "        # recalculate values to minimize loss of percision\n",
    "        c = b - (b - a) / phi\n",
    "        d = a + (b - a) / phi\n",
    "            \n",
    "        iterations += 1\n",
    "    \n",
    "    # last call in return statement\n",
    "    # is not counted as another iteration\n",
    "    return function((a + b) / 2), calls + 1, iterations"
   ]
  },
  {
   "cell_type": "markdown",
   "id": "0007eb61",
   "metadata": {},
   "source": [
    "### Functions to minimize"
   ]
  },
  {
   "cell_type": "code",
   "execution_count": 4,
   "id": "28d35f90",
   "metadata": {},
   "outputs": [],
   "source": [
    "cubic_function = lambda x: x * x * x\n",
    "\n",
    "abs_function = lambda x: abs(x - 0.2)\n",
    "\n",
    "sin_function = lambda x: x * math.sin(1 / x)"
   ]
  },
  {
   "cell_type": "markdown",
   "id": "348f0c67",
   "metadata": {},
   "source": [
    "### Measurements\n",
    "Some setup rules and measurement function"
   ]
  },
  {
   "cell_type": "code",
   "execution_count": 5,
   "id": "a746bf0d",
   "metadata": {},
   "outputs": [],
   "source": [
    "columns = [\"Method\", \"minimum\", \"function calls\", \"iterations\"]\n",
    "minimizators = [exhaustive_search, bisection, golden_section]\n",
    "function_setups = {cubic_function: (0, 1), abs_function: (0, 1), sin_function: (0.01, 1)}\n",
    "\n",
    "measure_function = lambda function:\\\n",
    "    [(minimizator.__name__, *minimizator(function, function_setups[function])) for minimizator in minimizators]"
   ]
  },
  {
   "cell_type": "markdown",
   "id": "c85f2fe9",
   "metadata": {},
   "source": [
    "Measurements\n",
    "1. Cubic function<br>\n",
    "$f(x)=x^3, x\\in[0,1]$"
   ]
  },
  {
   "cell_type": "code",
   "execution_count": 6,
   "id": "798a098d",
   "metadata": {},
   "outputs": [
    {
     "data": {
      "text/html": [
       "<div>\n",
       "<style scoped>\n",
       "    .dataframe tbody tr th:only-of-type {\n",
       "        vertical-align: middle;\n",
       "    }\n",
       "\n",
       "    .dataframe tbody tr th {\n",
       "        vertical-align: top;\n",
       "    }\n",
       "\n",
       "    .dataframe thead th {\n",
       "        text-align: right;\n",
       "    }\n",
       "</style>\n",
       "<table border=\"1\" class=\"dataframe\">\n",
       "  <thead>\n",
       "    <tr style=\"text-align: right;\">\n",
       "      <th></th>\n",
       "      <th>Method</th>\n",
       "      <th>minimum</th>\n",
       "      <th>function calls</th>\n",
       "      <th>iterations</th>\n",
       "    </tr>\n",
       "  </thead>\n",
       "  <tbody>\n",
       "    <tr>\n",
       "      <th>0</th>\n",
       "      <td>exhaustive_search</td>\n",
       "      <td>0.000000e+00</td>\n",
       "      <td>1000</td>\n",
       "      <td>1000</td>\n",
       "    </tr>\n",
       "    <tr>\n",
       "      <th>1</th>\n",
       "      <td>bisection</td>\n",
       "      <td>0.000000e+00</td>\n",
       "      <td>20</td>\n",
       "      <td>10</td>\n",
       "    </tr>\n",
       "    <tr>\n",
       "      <th>2</th>\n",
       "      <td>golden_section</td>\n",
       "      <td>4.925680e-11</td>\n",
       "      <td>17</td>\n",
       "      <td>15</td>\n",
       "    </tr>\n",
       "  </tbody>\n",
       "</table>\n",
       "</div>"
      ],
      "text/plain": [
       "              Method       minimum  function calls  iterations\n",
       "0  exhaustive_search  0.000000e+00            1000        1000\n",
       "1          bisection  0.000000e+00              20          10\n",
       "2     golden_section  4.925680e-11              17          15"
      ]
     },
     "metadata": {},
     "output_type": "display_data"
    }
   ],
   "source": [
    "cubic_function_table = DataFrame.from_records(measure_function(cubic_function))\n",
    "cubic_function_table.columns = columns\n",
    "display(cubic_function_table)"
   ]
  },
  {
   "cell_type": "markdown",
   "id": "b63c138e",
   "metadata": {},
   "source": [
    "2. Absolute value function<br>\n",
    "$f(x)=|x-0.2|, x\\in[0,1]$"
   ]
  },
  {
   "cell_type": "code",
   "execution_count": 7,
   "id": "32ca8b1e",
   "metadata": {},
   "outputs": [
    {
     "data": {
      "text/html": [
       "<div>\n",
       "<style scoped>\n",
       "    .dataframe tbody tr th:only-of-type {\n",
       "        vertical-align: middle;\n",
       "    }\n",
       "\n",
       "    .dataframe tbody tr th {\n",
       "        vertical-align: top;\n",
       "    }\n",
       "\n",
       "    .dataframe thead th {\n",
       "        text-align: right;\n",
       "    }\n",
       "</style>\n",
       "<table border=\"1\" class=\"dataframe\">\n",
       "  <thead>\n",
       "    <tr style=\"text-align: right;\">\n",
       "      <th></th>\n",
       "      <th>Method</th>\n",
       "      <th>minimum</th>\n",
       "      <th>function calls</th>\n",
       "      <th>iterations</th>\n",
       "    </tr>\n",
       "  </thead>\n",
       "  <tbody>\n",
       "    <tr>\n",
       "      <th>0</th>\n",
       "      <td>exhaustive_search</td>\n",
       "      <td>0.000000</td>\n",
       "      <td>1000</td>\n",
       "      <td>1000</td>\n",
       "    </tr>\n",
       "    <tr>\n",
       "      <th>1</th>\n",
       "      <td>bisection</td>\n",
       "      <td>0.000781</td>\n",
       "      <td>20</td>\n",
       "      <td>10</td>\n",
       "    </tr>\n",
       "    <tr>\n",
       "      <th>2</th>\n",
       "      <td>golden_section</td>\n",
       "      <td>0.000073</td>\n",
       "      <td>17</td>\n",
       "      <td>15</td>\n",
       "    </tr>\n",
       "  </tbody>\n",
       "</table>\n",
       "</div>"
      ],
      "text/plain": [
       "              Method   minimum  function calls  iterations\n",
       "0  exhaustive_search  0.000000            1000        1000\n",
       "1          bisection  0.000781              20          10\n",
       "2     golden_section  0.000073              17          15"
      ]
     },
     "metadata": {},
     "output_type": "display_data"
    }
   ],
   "source": [
    "abs_function_table = DataFrame.from_records(measure_function(abs_function))\n",
    "abs_function_table.columns = columns\n",
    "display(abs_function_table)"
   ]
  },
  {
   "cell_type": "markdown",
   "id": "fbd5ef94",
   "metadata": {},
   "source": [
    "3. Sinus funcion<br>\n",
    "$f(x)=x \\sin(\\frac{1}{x}), x\\in[0.01, 1]$"
   ]
  },
  {
   "cell_type": "code",
   "execution_count": 8,
   "id": "b07820fa",
   "metadata": {},
   "outputs": [
    {
     "data": {
      "text/html": [
       "<div>\n",
       "<style scoped>\n",
       "    .dataframe tbody tr th:only-of-type {\n",
       "        vertical-align: middle;\n",
       "    }\n",
       "\n",
       "    .dataframe tbody tr th {\n",
       "        vertical-align: top;\n",
       "    }\n",
       "\n",
       "    .dataframe thead th {\n",
       "        text-align: right;\n",
       "    }\n",
       "</style>\n",
       "<table border=\"1\" class=\"dataframe\">\n",
       "  <thead>\n",
       "    <tr style=\"text-align: right;\">\n",
       "      <th></th>\n",
       "      <th>Method</th>\n",
       "      <th>minimum</th>\n",
       "      <th>function calls</th>\n",
       "      <th>iterations</th>\n",
       "    </tr>\n",
       "  </thead>\n",
       "  <tbody>\n",
       "    <tr>\n",
       "      <th>0</th>\n",
       "      <td>exhaustive_search</td>\n",
       "      <td>-0.217225</td>\n",
       "      <td>990</td>\n",
       "      <td>990</td>\n",
       "    </tr>\n",
       "    <tr>\n",
       "      <th>1</th>\n",
       "      <td>bisection</td>\n",
       "      <td>-0.217204</td>\n",
       "      <td>20</td>\n",
       "      <td>10</td>\n",
       "    </tr>\n",
       "    <tr>\n",
       "      <th>2</th>\n",
       "      <td>golden_section</td>\n",
       "      <td>-0.217232</td>\n",
       "      <td>17</td>\n",
       "      <td>15</td>\n",
       "    </tr>\n",
       "  </tbody>\n",
       "</table>\n",
       "</div>"
      ],
      "text/plain": [
       "              Method   minimum  function calls  iterations\n",
       "0  exhaustive_search -0.217225             990         990\n",
       "1          bisection -0.217204              20          10\n",
       "2     golden_section -0.217232              17          15"
      ]
     },
     "metadata": {},
     "output_type": "display_data"
    }
   ],
   "source": [
    "sin_function_table = DataFrame.from_records(measure_function(sin_function))\n",
    "sin_function_table.columns = columns\n",
    "display(sin_function_table)"
   ]
  },
  {
   "cell_type": "markdown",
   "id": "d7ae9758",
   "metadata": {},
   "source": [
    "## II. Multidimensional methods"
   ]
  },
  {
   "cell_type": "markdown",
   "id": "c8015400",
   "metadata": {},
   "source": [
    "### Setup"
   ]
  },
  {
   "cell_type": "code",
   "execution_count": 9,
   "id": "ce90ce4f",
   "metadata": {},
   "outputs": [],
   "source": [
    "alpha, beta = rnd.uniform(0, 1), rnd.uniform(0, 1)\n",
    "\n",
    "X = [k / 100 for k in range(0, 101)]\n",
    "delta = norm(loc=0, scale=1).rvs(size=101)\n",
    "Y = [alpha * x_k + beta + delta_k for x_k, delta_k in zip(X, delta)]"
   ]
  },
  {
   "cell_type": "code",
   "execution_count": 10,
   "id": "27ac4422",
   "metadata": {},
   "outputs": [
    {
     "data": {
      "text/plain": [
       "<AxesSubplot:>"
      ]
     },
     "execution_count": 10,
     "metadata": {},
     "output_type": "execute_result"
    },
    {
     "data": {
      "image/png": "[encoded data removed]",
      "text/plain": [
       "<Figure size 640x480 with 1 Axes>"
      ]
     },
     "metadata": {},
     "output_type": "display_data"
    }
   ],
   "source": [
    "noise = DataFrame({\"x\":X,\"y\":Y,\"delta\":delta})\n",
    "sns.set_theme()\n",
    "plt.figure(figsize=(8, 6), dpi=80)\n",
    "sns.scatterplot(data=noise)"
   ]
  },
  {
   "cell_type": "code",
   "execution_count": 11,
   "id": "36bcb233",
   "metadata": {},
   "outputs": [
    {
     "data": {
      "text/plain": [
       "<AxesSubplot:xlabel='y', ylabel='Count'>"
      ]
     },
     "execution_count": 11,
     "metadata": {},
     "output_type": "execute_result"
    },
    {
     "data": {
      "image/png": "[encoded data removed]",
      "text/plain": [
       "<Figure size 432x288 with 1 Axes>"
      ]
     },
     "metadata": {},
     "output_type": "display_data"
    }
   ],
   "source": [
    "sns.histplot(data=noise, x=\"y\", kde=True)"
   ]
  },
  {
   "cell_type": "markdown",
   "id": "65ce2c2b",
   "metadata": {},
   "source": [
    "### Approximants"
   ]
  },
  {
   "cell_type": "code",
   "execution_count": 12,
   "id": "cc9df572",
   "metadata": {},
   "outputs": [],
   "source": [
    "linear_approximant = lambda x, a, b: a * x + b\n",
    "rational_approximant = lambda x, a, b: a / (1 + b * x)"
   ]
  },
  {
   "cell_type": "markdown",
   "id": "1a60b99c",
   "metadata": {},
   "source": [
    "### Function to minimize\n",
    "least squares method"
   ]
  },
  {
   "cell_type": "code",
   "execution_count": 13,
   "id": "bea2c478",
   "metadata": {},
   "outputs": [],
   "source": [
    "least_squares = lambda function, a, b: \\\n",
    "    sum([math.pow(function(x_k, a, b) - y_k, 2) for x_k, y_k in zip(X, Y)])"
   ]
  },
  {
   "cell_type": "markdown",
   "id": "dcf5f32e",
   "metadata": {},
   "source": [
    "### Minimization functions"
   ]
  },
  {
   "cell_type": "code",
   "execution_count": 49,
   "id": "253588ba",
   "metadata": {},
   "outputs": [],
   "source": [
    "def multidim_exhaustive_search(function, ranges):\n",
    "    calls, iterations = 0, 0\n",
    "    \n",
    "    min_value = None\n",
    "    x_m, y_m = 0, 0\n",
    "    for x in np.arange(ranges[0][0], ranges[0][1], step=EPSILON):\n",
    "        for y in np.arange(ranges[1][0], ranges[1][1], step=EPSILON):\n",
    "            value = least_squares(function, x, y)\n",
    "            calls += 1\n",
    "            \n",
    "            if min_value is None or value < min_value:\n",
    "                min_value = value\n",
    "                x_m, y_m = x, y\n",
    "            iterations += 1\n",
    "    \n",
    "    return [x_m, y_m], min_value, calls, iterations\n",
    "\n",
    "def gauss_search(function,  ranges):\n",
    "    calls, iterations = 0, 0\n",
    "    previous_result = None\n",
    "    x_iteration = True\n",
    "    other_coord = np.random.choice(np.arange(ranges[1][0], ranges[1][1], EPSILON))\n",
    "    \n",
    "    \n",
    "    while True:\n",
    "        dimension = 0 if x_iteration else 1\n",
    "        # value of function\n",
    "        current_minimum = None\n",
    "        # value of iterated coord\n",
    "        current_minima = None\n",
    "\n",
    "        for i in np.arange(ranges[dimension][0], ranges[dimension][1], step=EPSILON):\n",
    "            iterations += 1                                                                                                                                                                                                                                                                                                                                                                                                                                                                                                                                                                                                                                                                                                                                                                                                                                                                                                                                                                                                                                                                                                                                                                                                                                                                                                                                                                                                                                                                                                                                                                                                                                                                                                                                                                                                                                                                                                                                                                                                                                                                                                                                                                                                                                                                                                                                                                                                                                                                                                                                                                                                                                                                                                                                                                                                                                                                                                                                                                                                                                                                                                                                                                                                                                                                                                                                                                                                                                                                                                                                                                                                                                                                                                                                                                                                                                                                                                                                                                                                                                                                                                                                                                                                                                                                                                                                                                                                                                                                                                                                                                                                                                                                                                                                                                                                                                                                                                                                                                                                                                                                                                                                                                                                                                                                                                                                                                                                                                                                                                                                                                                                                                                                                                                                                                                                                                                                                                                                                                                                                                                                                                                                                                                                                                                                                                                                                                                                                                                                                                                                                                                                                                                                             \n",
    "            value = least_squares(function, i, other_coord) \\\n",
    "                if x_iteration \\\n",
    "                else least_squares(function, other_coord, i)\n",
    "            calls += 1\n",
    "            \n",
    "            if current_minimum is None or value < current_minimum:\n",
    "                current_minimum, current_minima = value, i\n",
    "                \n",
    "        current_result = np.array([current_minima, other_coord]) \\\n",
    "            if x_iteration \\\n",
    "            else np.array([other_coord, current_minima])\n",
    "        \n",
    "        if previous_result is not None and abs(previous_result[dimension] - current_result[dimension]) < EPSILON:\n",
    "            return current_result, current_minimum, calls, iterations\n",
    "            break\n",
    "\n",
    "        previous_result = current_result\n",
    "        other_coord = current_minima\n",
    "        x_iteration = not x_iteration\n",
    "\n",
    "    \n",
    "def nelder_mead(function, ranges):\n",
    "    f = lambda x: least_squares(function, *x)\n",
    "    \n",
    "    calls, iterations = 0, 0\n",
    "    _alpha, _beta, _gamma = 1.5, 0.75, 3\n",
    "    difference = EPSILON + 1\n",
    "    \n",
    "    # choose three points with random coordinates\n",
    "    x1, x2, x3 = [[rnds[0] * (ranges[0][1] - ranges[0][0]) + ranges[0][0], \\\n",
    "                   rnds[1] * (ranges[1][1] - ranges[1][0]) + ranges[1][0]] \\\n",
    "                  for rnds in np_rnd.ranf((3,2))]\n",
    "    \n",
    "    d1, d2, d3 = sorted([{'x': x1, 'y': f(x1)}, \\\n",
    "                         {'x': x2, 'y': f(x2)}, \\\n",
    "                         {'x': x3, 'y': f(x3)}], \\\n",
    "                        key=lambda x: x['y'])\n",
    "    calls += 3\n",
    "    x_h, x_g, x_l = np.array(d3['x']), np.array(d2['x']), np.array(d1['x'])\n",
    "    f_h, f_g, f_l = d3['y'], d2['y'], d1['y']\n",
    "    \n",
    "    def compress(xh, xc):\n",
    "        xs = _beta * xh + (1 - _beta) * xc\n",
    "        fs = f(xs)\n",
    "        return xs, fs\n",
    "    \n",
    "    while difference > EPSILON:\n",
    "        iterations += 1\n",
    "        \n",
    "        # center of mass\n",
    "        x_c = (x_g + x_l) / 2\n",
    "        # reflection of x_h\n",
    "        x_r = (1 + _alpha) * x_c - _alpha * x_h\n",
    "        f_r = f(x_r)\n",
    "        calls += 1\n",
    "\n",
    "        if f_r < f_l:\n",
    "            x_e = (1 - _gamma) * x_c + _gamma * x_r\n",
    "            f_e = f(x_e)\n",
    "            calls += 1\n",
    "\n",
    "            if f_e < f_r:\n",
    "                x_h, f_h = x_e, f_e\n",
    "            else:\n",
    "                x_h, f_h = x_r, f_r\n",
    "\n",
    "        elif f_r < f_g:\n",
    "            x_h, f_h = x_r, f_r\n",
    "\n",
    "        else:\n",
    "            if f_r < f_h:\n",
    "                # exchange values\n",
    "                x_r, x_h = x_h, x_r\n",
    "                f_r, f_h = f_h, f_r\n",
    "\n",
    "            x_s, f_s = compress(x_h, x_c)\n",
    "            calls += 1\n",
    "            if f_s < f_h:\n",
    "                x_h, f_h = x_s, f_s\n",
    "            else:\n",
    "                x_h, x_g = [x_l + (x - x_l) / 2 for x in [x_h, x_g]]\n",
    "\n",
    "        [x_l, f_l], [x_g, f_g], [x_h, f_h]  = \\\n",
    "            sorted([[x_h, f_h], [x_g, f_g], [x_l, f_l]], key=lambda x: x[1])\n",
    "        \n",
    "        difference = max(np.std([x_l, x_g, x_h], axis=0))\n",
    "    \n",
    "    return x_l, f_l, calls, iterations\n"
   ]
  },
  {
   "cell_type": "markdown",
   "id": "35eee4ca",
   "metadata": {},
   "source": [
    "### Help function\n",
    "for displaying measurement results"
   ]
  },
  {
   "cell_type": "code",
   "execution_count": 59,
   "id": "b8797f40",
   "metadata": {},
   "outputs": [],
   "source": [
    "def visualize_measurements(func, exh_res, gauss_res, nelder_res, lg_loc='upper right'):\n",
    "    fig, ax = plt.subplots()\n",
    "    plt.figure(figsize=(8,6))\n",
    "    applied_approximant = lambda x, y: least_squares(func, x, y)\n",
    "    \n",
    "    results = DataFrame.from_records([exh_res,gauss_res,nelder_res], columns=[\"x\", \"result\", \"calls\", \"iterations\"])\n",
    "\n",
    "    x_range = [min(results[\"x\"], key=lambda i: i[0])[0], max(results[\"x\"], key=lambda i: i[0])[0]]\n",
    "    y_range = [min(results[\"x\"], key=lambda i: i[1])[1], max(results[\"x\"], key=lambda i: i[1])[1]]\n",
    "\n",
    "    # extend ranges\n",
    "    x_range_third = (x_range[1] - x_range[0]) / 3\n",
    "    x_grid = np.linspace(x_range[0] - x_range_third, x_range[1] + x_range_third, 100)\n",
    "\n",
    "    y_range_third = (y_range[1] - y_range[0]) / 3\n",
    "    y_grid = np.linspace(y_range[0] - y_range_third, y_range[1] + y_range_third, 100)\n",
    "    value_grid = [[applied_approximant(x, y) for y in y_grid] for x in x_grid]\n",
    "\n",
    "    chart = ax.contourf(x_grid, y_grid, value_grid, cmap=\"YlGnBu\", levels=10)\n",
    "\n",
    "    labels = ['approximant', '(r)-exhausive search','(g)-gauss search','(b)-nelder mead']\n",
    "    for i in range(len(labels)):\n",
    "        chart.collections[i].set_label(labels[i])\n",
    "\n",
    "    ax.legend(loc=lg_loc)\n",
    "    ax.plot(exh_res[0][0], exh_res[0][1], 'ro')\n",
    "    ax.plot(gauss_res[0][0], gauss_res[0][1], 'go')\n",
    "    ax.plot(nelder_res[0][0], nelder_res[0][1], 'bo')"
   ]
  },
  {
   "cell_type": "markdown",
   "id": "93abf864",
   "metadata": {},
   "source": [
    "### Setup"
   ]
  },
  {
   "cell_type": "code",
   "execution_count": 38,
   "id": "27c87f59",
   "metadata": {},
   "outputs": [],
   "source": [
    "ranges = [[0,1],[0,1]]\n",
    "ranges_rat = [[0,1],[-0.9999,0]]"
   ]
  },
  {
   "cell_type": "markdown",
   "id": "cf5edce8",
   "metadata": {},
   "source": [
    "### Measurements\n",
    "1. linear approximant"
   ]
  },
  {
   "cell_type": "code",
   "execution_count": 18,
   "id": "2dbea7b2",
   "metadata": {},
   "outputs": [],
   "source": [
    "exh = multidim_exhaustive_search(linear_approximant, ranges)\n",
    "gauss = gauss_search(linear_approximant, ranges)\n",
    "nelder = nelder_mead(linear_approximant, ranges)"
   ]
  },
  {
   "cell_type": "code",
   "execution_count": 27,
   "id": "02627414",
   "metadata": {},
   "outputs": [
    {
     "data": {
      "text/html": [
       "<div>\n",
       "<style scoped>\n",
       "    .dataframe tbody tr th:only-of-type {\n",
       "        vertical-align: middle;\n",
       "    }\n",
       "\n",
       "    .dataframe tbody tr th {\n",
       "        vertical-align: top;\n",
       "    }\n",
       "\n",
       "    .dataframe thead th {\n",
       "        text-align: right;\n",
       "    }\n",
       "</style>\n",
       "<table border=\"1\" class=\"dataframe\">\n",
       "  <thead>\n",
       "    <tr style=\"text-align: right;\">\n",
       "      <th></th>\n",
       "      <th>result</th>\n",
       "      <th>calls</th>\n",
       "      <th>iterations</th>\n",
       "    </tr>\n",
       "  </thead>\n",
       "  <tbody>\n",
       "    <tr>\n",
       "      <th>0</th>\n",
       "      <td>97.355577</td>\n",
       "      <td>1000000</td>\n",
       "      <td>1000000</td>\n",
       "    </tr>\n",
       "    <tr>\n",
       "      <th>1</th>\n",
       "      <td>97.355694</td>\n",
       "      <td>14000</td>\n",
       "      <td>14000</td>\n",
       "    </tr>\n",
       "    <tr>\n",
       "      <th>2</th>\n",
       "      <td>97.355590</td>\n",
       "      <td>135</td>\n",
       "      <td>67</td>\n",
       "    </tr>\n",
       "  </tbody>\n",
       "</table>\n",
       "</div>"
      ],
      "text/plain": [
       "      result    calls  iterations\n",
       "0  97.355577  1000000     1000000\n",
       "1  97.355694    14000       14000\n",
       "2  97.355590      135          67"
      ]
     },
     "metadata": {},
     "output_type": "display_data"
    }
   ],
   "source": [
    "linear_results = DataFrame.from_records([exh[1:],gauss[1:],nelder[1:]], columns=[\"result\", \"calls\", \"iterations\"])\n",
    "display(linear_results)"
   ]
  },
  {
   "cell_type": "markdown",
   "id": "4685512b",
   "metadata": {},
   "source": [
    "As shown on the table, results differ letter then $\\epsilon=0.001$\n",
    "<br><br>\n",
    "Areas with letter values are colored in lighter colors on the chart below"
   ]
  },
  {
   "cell_type": "code",
   "execution_count": 29,
   "id": "10744b28",
   "metadata": {},
   "outputs": [
    {
     "data": {
      "image/png": "[encoded data removed]",
      "text/plain": [
       "<Figure size 432x288 with 1 Axes>"
      ]
     },
     "metadata": {},
     "output_type": "display_data"
    },
    {
     "data": {
      "text/plain": [
       "<Figure size 576x432 with 0 Axes>"
      ]
     },
     "metadata": {},
     "output_type": "display_data"
    }
   ],
   "source": [
    "visualize_measurements(linear_approximant, exh, gauss, nelder)"
   ]
  },
  {
   "cell_type": "markdown",
   "id": "f7b707d9",
   "metadata": {},
   "source": [
    "2. rational approximant"
   ]
  },
  {
   "cell_type": "code",
   "execution_count": 50,
   "id": "aa6750dc",
   "metadata": {},
   "outputs": [],
   "source": [
    "#exh_rat = multidim_exhaustive_search(rational_approximant, ranges_rat)\n",
    "gauss_rat = gauss_search(rational_approximant, ranges_rat)\n",
    "nelder_rat = nelder_mead(rational_approximant, ranges_rat)"
   ]
  },
  {
   "cell_type": "code",
   "execution_count": 51,
   "id": "420622ad",
   "metadata": {},
   "outputs": [
    {
     "data": {
      "text/html": [
       "<div>\n",
       "<style scoped>\n",
       "    .dataframe tbody tr th:only-of-type {\n",
       "        vertical-align: middle;\n",
       "    }\n",
       "\n",
       "    .dataframe tbody tr th {\n",
       "        vertical-align: top;\n",
       "    }\n",
       "\n",
       "    .dataframe thead th {\n",
       "        text-align: right;\n",
       "    }\n",
       "</style>\n",
       "<table border=\"1\" class=\"dataframe\">\n",
       "  <thead>\n",
       "    <tr style=\"text-align: right;\">\n",
       "      <th></th>\n",
       "      <th>x</th>\n",
       "      <th>result</th>\n",
       "      <th>calls</th>\n",
       "      <th>iterations</th>\n",
       "    </tr>\n",
       "  </thead>\n",
       "  <tbody>\n",
       "    <tr>\n",
       "      <th>0</th>\n",
       "      <td>[0.745, -0.5918999999999996]</td>\n",
       "      <td>96.883684</td>\n",
       "      <td>1000000</td>\n",
       "      <td>1000000</td>\n",
       "    </tr>\n",
       "    <tr>\n",
       "      <th>1</th>\n",
       "      <td>[0.746, -0.5908999999999996]</td>\n",
       "      <td>96.883786</td>\n",
       "      <td>36000</td>\n",
       "      <td>36000</td>\n",
       "    </tr>\n",
       "    <tr>\n",
       "      <th>2</th>\n",
       "      <td>[0.7445058496030169, -0.5931042078435409]</td>\n",
       "      <td>96.883787</td>\n",
       "      <td>91</td>\n",
       "      <td>45</td>\n",
       "    </tr>\n",
       "  </tbody>\n",
       "</table>\n",
       "</div>"
      ],
      "text/plain": [
       "                                           x     result    calls  iterations\n",
       "0               [0.745, -0.5918999999999996]  96.883684  1000000     1000000\n",
       "1               [0.746, -0.5908999999999996]  96.883786    36000       36000\n",
       "2  [0.7445058496030169, -0.5931042078435409]  96.883787       91          45"
      ]
     },
     "metadata": {},
     "output_type": "display_data"
    }
   ],
   "source": [
    "rat_results = DataFrame.from_records([exh_rat,gauss_rat,nelder_rat], columns=[\"x\",\"result\", \"calls\", \"iterations\"])\n",
    "display(rat_results)"
   ]
  },
  {
   "cell_type": "code",
   "execution_count": 60,
   "id": "8081cff8",
   "metadata": {},
   "outputs": [
    {
     "data": {
      "image/png": "[encoded data removed]",
      "text/plain": [
       "<Figure size 432x288 with 1 Axes>"
      ]
     },
     "metadata": {},
     "output_type": "display_data"
    },
    {
     "data": {
      "text/plain": [
       "<Figure size 576x432 with 0 Axes>"
      ]
     },
     "metadata": {},
     "output_type": "display_data"
    }
   ],
   "source": [
    "visualize_measurements(rational_approximant, exh_rat, gauss_rat, nelder_rat, lg_loc='upper left')"
   ]
  },
  {
   "cell_type": "code",
   "execution_count": 46,
   "id": "f5fcbb40",
   "metadata": {},
   "outputs": [
    {
     "data": {
      "text/plain": [
       "0.36167917789245485"
      ]
     },
     "execution_count": 46,
     "metadata": {},
     "output_type": "execute_result"
    }
   ],
   "source": [
    "np.random.ranf()"
   ]
  },
  {
   "cell_type": "code",
   "execution_count": null,
   "id": "4bffdd66",
   "metadata": {},
   "outputs": [],
   "source": []
  }
 ],
 "metadata": {
  "kernelspec": {
   "display_name": "Python 3",
   "language": "python",
   "name": "python3"
  },
  "language_info": {
   "codemirror_mode": {
    "name": "ipython",
    "version": 3
   },
   "file_extension": ".py",
   "mimetype": "text/x-python",
   "name": "python",
   "nbconvert_exporter": "python",
   "pygments_lexer": "ipython3",
   "version": "3.8.8"
  }
 },
 "nbformat": 4,
 "nbformat_minor": 5
}
